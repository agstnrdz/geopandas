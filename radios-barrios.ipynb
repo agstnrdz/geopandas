{
 "cells": [
  {
   "cell_type": "markdown",
   "metadata": {},
   "source": [
    "#### Aplicación de índices espaciales a datos geoespaciales locales\n",
    "* Objeto base: unión entre barrios y radios censales (shapefile). Datos oficiales actuales.\n",
    "* Atributos relevantes: radios etiquetados con cantidad de población y viviendas.\n",
    "* Herramientas: ```jupyter notebook```, ```python```, ```pandas```, ```geopandas```, ```import matplotlib.pyplot```, ```folium```, ```h3```.\n",
    "\n",
    "Algunas funciones de h3 están desactualizadas."
   ]
  }
 ],
 "metadata": {
  "kernelspec": {
   "display_name": "GIS",
   "language": "python",
   "name": "python3"
  },
  "language_info": {
   "codemirror_mode": {
    "name": "ipython",
    "version": 3
   },
   "file_extension": ".py",
   "mimetype": "text/x-python",
   "name": "python",
   "nbconvert_exporter": "python",
   "pygments_lexer": "ipython3",
   "version": "3.12.3"
  }
 },
 "nbformat": 4,
 "nbformat_minor": 2
}
