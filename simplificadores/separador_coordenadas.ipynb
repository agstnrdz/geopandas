{
 "cells": [
  {
   "cell_type": "markdown",
   "id": "91699e7f",
   "metadata": {},
   "source": [
    "#### Separador de coordenadas en bases de datos tabulares\n",
    "##### Debido al copiado de coordenadas decimales de Google Maps, estas se pegan separadas por una coma en una única celda. Para agilizar el procesamiento de datos, este script separa la Latitud y Longitud en columnas distintas."
   ]
  },
  {
   "cell_type": "code",
   "execution_count": null,
   "id": "9cb60821",
   "metadata": {},
   "outputs": [],
   "source": [
    "# Importar las librerías a utilizar\n",
    "import pandas as pd"
   ]
  },
  {
   "cell_type": "code",
   "execution_count": null,
   "id": "b36e460a",
   "metadata": {},
   "outputs": [],
   "source": [
    "# Cargar y leer el archivo\n",
    "df = pd.read_excel(\"Archivo.xlsx\")"
   ]
  },
  {
   "cell_type": "code",
   "execution_count": null,
   "id": "c1812928",
   "metadata": {},
   "outputs": [],
   "source": [
    "# Separar las coordenadas divididas por una coma\n",
    "df[['Lat', 'Lng']] = df['Coordenadas'].str.strip().str.split(',', expand=True)"
   ]
  },
  {
   "cell_type": "code",
   "execution_count": null,
   "id": "3d6b0ea1",
   "metadata": {},
   "outputs": [],
   "source": [
    "# Exportar el resultante\n",
    "df.to_excel(\"Archivo.xlsx\", index = False)"
   ]
  }
 ],
 "metadata": {
  "kernelspec": {
   "display_name": "GIS",
   "language": "python",
   "name": "python3"
  },
  "language_info": {
   "codemirror_mode": {
    "name": "ipython",
    "version": 3
   },
   "file_extension": ".py",
   "mimetype": "text/x-python",
   "name": "python",
   "nbconvert_exporter": "python",
   "pygments_lexer": "ipython3",
   "version": "3.12.3"
  }
 },
 "nbformat": 4,
 "nbformat_minor": 5
}
