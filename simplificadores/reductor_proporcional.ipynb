{
 "cells": [
  {
   "cell_type": "markdown",
   "metadata": {},
   "source": [
    "#### Reducción proporcional de valores usando Python\n",
    "##### Debido al margen de error del modelo de procesos para obtener datos censales por barrios, es necesario ajustar los valores censales totales a los oficiales, reduciendo proporcionalmente cada valor."
   ]
  },
  {
   "cell_type": "code",
   "execution_count": null,
   "metadata": {},
   "outputs": [],
   "source": [
    "#Cargar librerías\n",
    "import pandas as pd"
   ]
  },
  {
   "cell_type": "code",
   "execution_count": null,
   "metadata": {},
   "outputs": [
    {
     "data": {
      "text/html": [
       "<div>\n",
       "<style scoped>\n",
       "    .dataframe tbody tr th:only-of-type {\n",
       "        vertical-align: middle;\n",
       "    }\n",
       "\n",
       "    .dataframe tbody tr th {\n",
       "        vertical-align: top;\n",
       "    }\n",
       "\n",
       "    .dataframe thead th {\n",
       "        text-align: right;\n",
       "    }\n",
       "</style>\n",
       "<table border=\"1\" class=\"dataframe\">\n",
       "  <thead>\n",
       "    <tr style=\"text-align: right;\">\n",
       "      <th></th>\n",
       "      <th>nombre</th>\n",
       "      <th>pob</th>\n",
       "    </tr>\n",
       "  </thead>\n",
       "  <tbody>\n",
       "    <tr>\n",
       "      <th>0</th>\n",
       "      <td>Chacras Oeste</td>\n",
       "      <td>1564</td>\n",
       "    </tr>\n",
       "    <tr>\n",
       "      <th>1</th>\n",
       "      <td>Chacras Tres Pinos, Cañadones</td>\n",
       "      <td>362</td>\n",
       "    </tr>\n",
       "  </tbody>\n",
       "</table>\n",
       "</div>"
      ],
      "text/plain": [
       "                          nombre   pob\n",
       "0                  Chacras Oeste  1564\n",
       "1  Chacras Tres Pinos, Cañadones   362"
      ]
     },
     "execution_count": 15,
     "metadata": {},
     "output_type": "execute_result"
    }
   ],
   "source": [
    "# Cargar y leer archivo\n",
    "df_pob = pd.read_csv(\"join_barrios_x_link_pob_csv_listo.csv\")\n",
    "df_pob.head(2)"
   ]
  },
  {
   "cell_type": "code",
   "execution_count": null,
   "metadata": {},
   "outputs": [],
   "source": [
    "# Definir valores de referencia\n",
    "total_original = 203290\n",
    "total_objetivo = 201228\n",
    "diferencia = total_original - total_objetivo"
   ]
  },
  {
   "cell_type": "code",
   "execution_count": null,
   "metadata": {},
   "outputs": [],
   "source": [
    "# Calcular la proporción de reducción de cada barrio\n",
    "\n",
    "df_pob[\"proporcion\"] = df_pob[\"pob\"] / total_original\n",
    "df_pob[\"reduccion\"] = df_pob[\"proporcion\"] * diferencia"
   ]
  },
  {
   "cell_type": "code",
   "execution_count": 18,
   "metadata": {},
   "outputs": [
    {
     "data": {
      "text/html": [
       "<div>\n",
       "<style scoped>\n",
       "    .dataframe tbody tr th:only-of-type {\n",
       "        vertical-align: middle;\n",
       "    }\n",
       "\n",
       "    .dataframe tbody tr th {\n",
       "        vertical-align: top;\n",
       "    }\n",
       "\n",
       "    .dataframe thead th {\n",
       "        text-align: right;\n",
       "    }\n",
       "</style>\n",
       "<table border=\"1\" class=\"dataframe\">\n",
       "  <thead>\n",
       "    <tr style=\"text-align: right;\">\n",
       "      <th></th>\n",
       "      <th>nombre</th>\n",
       "      <th>pob</th>\n",
       "      <th>proporcion</th>\n",
       "      <th>reduccion</th>\n",
       "    </tr>\n",
       "  </thead>\n",
       "  <tbody>\n",
       "    <tr>\n",
       "      <th>0</th>\n",
       "      <td>Chacras Oeste</td>\n",
       "      <td>1564</td>\n",
       "      <td>0.007693</td>\n",
       "      <td>15.863879</td>\n",
       "    </tr>\n",
       "    <tr>\n",
       "      <th>1</th>\n",
       "      <td>Chacras Tres Pinos, Cañadones</td>\n",
       "      <td>362</td>\n",
       "      <td>0.001781</td>\n",
       "      <td>3.671819</td>\n",
       "    </tr>\n",
       "  </tbody>\n",
       "</table>\n",
       "</div>"
      ],
      "text/plain": [
       "                          nombre   pob  proporcion  reduccion\n",
       "0                  Chacras Oeste  1564    0.007693  15.863879\n",
       "1  Chacras Tres Pinos, Cañadones   362    0.001781   3.671819"
      ]
     },
     "execution_count": 18,
     "metadata": {},
     "output_type": "execute_result"
    }
   ],
   "source": [
    "df_pob.head(2)"
   ]
  },
  {
   "cell_type": "code",
   "execution_count": null,
   "metadata": {},
   "outputs": [],
   "source": [
    "# Redondear hacia el número más cercano\n",
    "\n",
    "df_pob[\"reduccion_redondeada\"] =df_pob[\"reduccion\"].round()"
   ]
  },
  {
   "cell_type": "code",
   "execution_count": null,
   "metadata": {},
   "outputs": [
    {
     "data": {
      "text/html": [
       "<div>\n",
       "<style scoped>\n",
       "    .dataframe tbody tr th:only-of-type {\n",
       "        vertical-align: middle;\n",
       "    }\n",
       "\n",
       "    .dataframe tbody tr th {\n",
       "        vertical-align: top;\n",
       "    }\n",
       "\n",
       "    .dataframe thead th {\n",
       "        text-align: right;\n",
       "    }\n",
       "</style>\n",
       "<table border=\"1\" class=\"dataframe\">\n",
       "  <thead>\n",
       "    <tr style=\"text-align: right;\">\n",
       "      <th></th>\n",
       "      <th>nombre</th>\n",
       "      <th>pob</th>\n",
       "      <th>reduccion</th>\n",
       "      <th>reduccion_redondeada</th>\n",
       "    </tr>\n",
       "  </thead>\n",
       "  <tbody>\n",
       "    <tr>\n",
       "      <th>0</th>\n",
       "      <td>Chacras Oeste</td>\n",
       "      <td>1564</td>\n",
       "      <td>15.863879</td>\n",
       "      <td>16.0</td>\n",
       "    </tr>\n",
       "    <tr>\n",
       "      <th>1</th>\n",
       "      <td>Chacras Tres Pinos, Cañadones</td>\n",
       "      <td>362</td>\n",
       "      <td>3.671819</td>\n",
       "      <td>4.0</td>\n",
       "    </tr>\n",
       "  </tbody>\n",
       "</table>\n",
       "</div>"
      ],
      "text/plain": [
       "                          nombre   pob  reduccion  reduccion_redondeada\n",
       "0                  Chacras Oeste  1564  15.863879                  16.0\n",
       "1  Chacras Tres Pinos, Cañadones   362   3.671819                   4.0"
      ]
     },
     "execution_count": 28,
     "metadata": {},
     "output_type": "execute_result"
    }
   ],
   "source": [
    "# Ver los resultados después de redondear\n",
    "\n",
    "df_pob[[\"nombre\", \"pob\", \"reduccion\", \"reduccion_redondeada\"]].head(2)"
   ]
  },
  {
   "cell_type": "code",
   "execution_count": null,
   "metadata": {},
   "outputs": [],
   "source": [
    "# Sumar las reducciones redondeadas\n",
    "\n",
    "total_reduccion_redondeada = df_pob[\"reduccion_redondeada\"].sum()"
   ]
  },
  {
   "cell_type": "code",
   "execution_count": null,
   "metadata": {},
   "outputs": [],
   "source": [
    "# Calcular la diferencia\n",
    "\n",
    "ajuste = diferencia - total_reduccion_redondeada"
   ]
  },
  {
   "cell_type": "code",
   "execution_count": null,
   "metadata": {},
   "outputs": [],
   "source": [
    "# Realizar el ajuste (agregar o quitar una persona en algunos barrios,\n",
    "# especialmente aquellos con mayor población)\n",
    "\n",
    "if ajuste != 0:\n",
    "    # Ordenar los barrios por población (o por reducción y aplicar el ajuste)\n",
    "    if ajuste > 0:\n",
    "        # Agregar personas donde más impacto tiene (por ejemplo, barrios más poblados)\n",
    "        barrios_ajustar = df_pob.nlargest(ajuste, \"pob\")\n",
    "        for index in barrios_ajustar.index:\n",
    "            df_pob.at[index, \"reduccion_redondeada\"] += 1\n",
    "    elif ajuste < 0:\n",
    "        # Quitar personas donde más impacto tiene (por ejemplo, barrios más poblados)\n",
    "        barrios_ajustar = df_pob.nlargest(abs(ajuste), \"pob\")\n",
    "        for index in barrios_ajustar.index:\n",
    "            df_pob.at[index, \"reduccion_redondeada\"] -= 1"
   ]
  }
 ],
 "metadata": {
  "kernelspec": {
   "display_name": "GIS",
   "language": "python",
   "name": "python3"
  },
  "language_info": {
   "codemirror_mode": {
    "name": "ipython",
    "version": 3
   },
   "file_extension": ".py",
   "mimetype": "text/x-python",
   "name": "python",
   "nbconvert_exporter": "python",
   "pygments_lexer": "ipython3",
   "version": "3.12.3"
  }
 },
 "nbformat": 4,
 "nbformat_minor": 2
}
