{
 "cells": [
  {
   "cell_type": "markdown",
   "id": "0a118fc2",
   "metadata": {},
   "source": [
    "#### Corrección de decimales en valores de coordenadas geográficas\n",
    "##### Debido al formato Lat Long de los resultados en formularios con localización automática se procedió a corregir y normalizar los decimales con el objetivo de preparar los datos para una futura georreferenciación."
   ]
  },
  {
   "cell_type": "code",
   "execution_count": 9,
   "id": "7def2604",
   "metadata": {},
   "outputs": [],
   "source": [
    "# Importar la librería\n",
    "import pandas as pd"
   ]
  },
  {
   "cell_type": "code",
   "execution_count": 8,
   "id": "f8c99dea",
   "metadata": {},
   "outputs": [],
   "source": [
    "# Leer .xlsx\n",
    "df = pd.read_excel('archivo_latlong.xlsx')"
   ]
  },
  {
   "cell_type": "code",
   "execution_count": 5,
   "id": "09077994",
   "metadata": {},
   "outputs": [],
   "source": [
    "# Función\n",
    "# Insertar el punto decimal después del tercer carácter\n",
    "def insertar_punto(valor):\n",
    "    valor_str = str(int(valor)) # Convertir a entero y luego a str\n",
    "    return float(valor_str[:3] + '.' + valor_str[3:])"
   ]
  },
  {
   "cell_type": "code",
   "execution_count": 6,
   "id": "4f7ba7f1",
   "metadata": {},
   "outputs": [],
   "source": [
    "# Aplico la función a las columnas lat y long\n",
    "df['lat_decimal'] = df['lat'].apply(insertar_punto)\n",
    "df['long_decimal'] = df['long'].apply(insertar_punto)"
   ]
  },
  {
   "cell_type": "code",
   "execution_count": 10,
   "id": "267991dc",
   "metadata": {},
   "outputs": [],
   "source": [
    "# Exporto el GDF modificado en un nuevo archivo\n",
    "df.to_excel('coordenadas_decimales.xlsx', index=False)"
   ]
  },
  {
   "cell_type": "code",
   "execution_count": 11,
   "id": "a0bae9ec",
   "metadata": {},
   "outputs": [
    {
     "name": "stdout",
     "output_type": "stream",
     "text": [
      "Conversión terminada.\n"
     ]
    }
   ],
   "source": [
    "print(\"Conversión terminada.\")"
   ]
  }
 ],
 "metadata": {
  "kernelspec": {
   "display_name": "GIS",
   "language": "python",
   "name": "python3"
  },
  "language_info": {
   "codemirror_mode": {
    "name": "ipython",
    "version": 3
   },
   "file_extension": ".py",
   "mimetype": "text/x-python",
   "name": "python",
   "nbconvert_exporter": "python",
   "pygments_lexer": "ipython3",
   "version": "3.12.3"
  }
 },
 "nbformat": 4,
 "nbformat_minor": 5
}
