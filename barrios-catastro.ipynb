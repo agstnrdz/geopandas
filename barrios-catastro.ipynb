{
 "cells": [
  {
   "cell_type": "markdown",
   "metadata": {},
   "source": [
    "#### Todos los barrios de Comodoro Rivadavia corregidos\n",
    "Fuente: Dirección General de Catastro\n"
   ]
  }
 ],
 "metadata": {
  "language_info": {
   "name": "python"
  }
 },
 "nbformat": 4,
 "nbformat_minor": 2
}
