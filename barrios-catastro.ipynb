{
 "cells": [
  {
   "cell_type": "markdown",
   "metadata": {},
   "source": [
    "#### Gestión de objetos espaciales: barrios de Comodoro Rivadavia\n",
    "Fuente: Dirección General de Catastro. Correcciones de límites, incongruencias y anomalías hechas por el autor.\n",
    "\n",
    "Al completar la corrección de los vectores y el ordenamiento de los datos de barrios proveídos por la Dirección General de Catastro (Diciembre, 2024), se obtuvieron 72 capas compuestas por multipoligonos representando todas las manzanas de cada barrio. Para una mayor facilidad a la hora de indexar y gestionar esta información espacial, se buscó la mejor forma de transformar la capa multipoligono en un único polígono con límites claros que represente el barrio en su totalidad sin errores topológicos ni solapamientos.\n",
    "\n",
    "Una primera opción fue crear una zona buffer de 50 metros ya disuelta desde el output mismo para obtener un único objeto. Finalmente hacer una zona buffer negativa de 45 metros con terminaciones cuadradas. Para mayor agilidad se creó un modelo de procesos con la secuencia de herramientas automatizadas. Como para el siguiente paso de unión todas las capas deben tener un campo en común, se creó el campo \"nombre\" donde cada capa llevó el nombre del barrio al que representa. Luego, a través de la herramienta de unión vectorial se realizó las uniones en distintas partes para evitar errores y hasta obtener una única capa poligonal categorizada según su campo \"nombre\". Los límites de estos polígonos no quedaron perfectamente delimitados, por lo que fue necesario realizar una corrección topológica."
   ]
  },
  {
   "cell_type": "code",
   "execution_count": 1,
   "metadata": {},
   "outputs": [],
   "source": [
    "import pandas as pd\n",
    "import geopandas as gpd\n",
    "import matplotlib.pyplot as plt\n",
    "import matplotlib\n",
    "import h3"
   ]
  },
  {
   "cell_type": "code",
   "execution_count": null,
   "metadata": {},
   "outputs": [],
   "source": []
  }
 ],
 "metadata": {
  "kernelspec": {
   "display_name": "GIS",
   "language": "python",
   "name": "python3"
  },
  "language_info": {
   "codemirror_mode": {
    "name": "ipython",
    "version": 3
   },
   "file_extension": ".py",
   "mimetype": "text/x-python",
   "name": "python",
   "nbconvert_exporter": "python",
   "pygments_lexer": "ipython3",
   "version": "3.12.3"
  }
 },
 "nbformat": 4,
 "nbformat_minor": 2
}
