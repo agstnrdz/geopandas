{
 "cells": [
  {
   "cell_type": "code",
   "execution_count": null,
   "metadata": {},
   "outputs": [],
   "source": []
  },
  {
   "cell_type": "markdown",
   "metadata": {},
   "source": [
    "#### R-tree Spatial Indexing with Python\n",
    "\n",
    "Practicamos la indexación espacial de  [Geoff Boeing](https://geoffboeing.com/2016/10/r-tree-spatial-index-python/) usando GeoPandas. En este caso vamos a usar los geodataframes que venimos usando en este archivo."
   ]
  },
  {
   "cell_type": "code",
   "execution_count": 3,
   "metadata": {},
   "outputs": [
    {
     "ename": "ModuleNotFoundError",
     "evalue": "No module named 'h3'",
     "output_type": "error",
     "traceback": [
      "\u001b[1;31m---------------------------------------------------------------------------\u001b[0m",
      "\u001b[1;31mModuleNotFoundError\u001b[0m                       Traceback (most recent call last)",
      "Cell \u001b[1;32mIn[3], line 2\u001b[0m\n\u001b[0;32m      1\u001b[0m \u001b[38;5;28;01mimport\u001b[39;00m \u001b[38;5;21;01mmatplotlib\u001b[39;00m\u001b[38;5;21;01m.\u001b[39;00m\u001b[38;5;21;01mpyplot\u001b[39;00m \u001b[38;5;28;01mas\u001b[39;00m \u001b[38;5;21;01mplt\u001b[39;00m\n\u001b[1;32m----> 2\u001b[0m \u001b[38;5;28;01mimport\u001b[39;00m \u001b[38;5;21;01mh3\u001b[39;00m\n\u001b[0;32m      3\u001b[0m \u001b[38;5;28;01mimport\u001b[39;00m \u001b[38;5;21;01mpandas\u001b[39;00m \u001b[38;5;28;01mas\u001b[39;00m \u001b[38;5;21;01mpd\u001b[39;00m \n\u001b[0;32m      4\u001b[0m \u001b[38;5;28;01mimport\u001b[39;00m \u001b[38;5;21;01mgeopandas\u001b[39;00m \u001b[38;5;28;01mas\u001b[39;00m \u001b[38;5;21;01mgpd\u001b[39;00m\n",
      "\u001b[1;31mModuleNotFoundError\u001b[0m: No module named 'h3'"
     ]
    }
   ],
   "source": [
    "import matplotlib.pyplot as plt\n",
    "import h3\n",
    "import pandas as pd \n",
    "import geopandas as gpd\n",
    "import folium\n",
    "import branca.colormap as cm"
   ]
  },
  {
   "cell_type": "code",
   "execution_count": 4,
   "metadata": {},
   "outputs": [
    {
     "ename": "NameError",
     "evalue": "name 'gpd' is not defined",
     "output_type": "error",
     "traceback": [
      "\u001b[1;31m---------------------------------------------------------------------------\u001b[0m",
      "\u001b[1;31mNameError\u001b[0m                                 Traceback (most recent call last)",
      "Cell \u001b[1;32mIn[4], line 2\u001b[0m\n\u001b[0;32m      1\u001b[0m \u001b[38;5;66;03m# cargar los geodataframe desde su directorio\u001b[39;00m\n\u001b[1;32m----> 2\u001b[0m barrios \u001b[38;5;241m=\u001b[39m gpd\u001b[38;5;241m.\u001b[39mread_file(\u001b[38;5;124mr\u001b[39m\u001b[38;5;124m\"\u001b[39m\u001b[38;5;124mC:\u001b[39m\u001b[38;5;124m\\\u001b[39m\u001b[38;5;124mUsers\u001b[39m\u001b[38;5;124m\\\u001b[39m\u001b[38;5;124mUserMCR\u001b[39m\u001b[38;5;124m\\\u001b[39m\u001b[38;5;124mDesktop\u001b[39m\u001b[38;5;124m\\\u001b[39m\u001b[38;5;124mAgustín\u001b[39m\u001b[38;5;124m\\\u001b[39m\u001b[38;5;124mcenso2022\u001b[39m\u001b[38;5;124m\\\u001b[39m\u001b[38;5;124mProyecto\u001b[39m\u001b[38;5;124m\\\u001b[39m\u001b[38;5;124mGeoPandasOptimizado\u001b[39m\u001b[38;5;124m\\\u001b[39m\u001b[38;5;124m5344\u001b[39m\u001b[38;5;124m\\\u001b[39m\u001b[38;5;124mbarrios.shp\u001b[39m\u001b[38;5;124m\"\u001b[39m)\n\u001b[0;32m      3\u001b[0m radios \u001b[38;5;241m=\u001b[39m gpd\u001b[38;5;241m.\u001b[39mread_file(\u001b[38;5;124mr\u001b[39m\u001b[38;5;124m\"\u001b[39m\u001b[38;5;124mC:\u001b[39m\u001b[38;5;124m\\\u001b[39m\u001b[38;5;124mUsers\u001b[39m\u001b[38;5;124m\\\u001b[39m\u001b[38;5;124mUserMCR\u001b[39m\u001b[38;5;124m\\\u001b[39m\u001b[38;5;124mDesktop\u001b[39m\u001b[38;5;124m\\\u001b[39m\u001b[38;5;124mAgustín\u001b[39m\u001b[38;5;124m\\\u001b[39m\u001b[38;5;124mcenso2022\u001b[39m\u001b[38;5;124m\\\u001b[39m\u001b[38;5;124mProyecto\u001b[39m\u001b[38;5;124m\\\u001b[39m\u001b[38;5;124mGeoPandasOptimizado\u001b[39m\u001b[38;5;124m\\\u001b[39m\u001b[38;5;124m5344\u001b[39m\u001b[38;5;124m\\\u001b[39m\u001b[38;5;124mradios.shp\u001b[39m\u001b[38;5;124m\"\u001b[39m)\n\u001b[0;32m      4\u001b[0m union_2 \u001b[38;5;241m=\u001b[39m gpd\u001b[38;5;241m.\u001b[39mread_file(\u001b[38;5;124mr\u001b[39m\u001b[38;5;124m\"\u001b[39m\u001b[38;5;124mC:\u001b[39m\u001b[38;5;124m\\\u001b[39m\u001b[38;5;124mUsers\u001b[39m\u001b[38;5;124m\\\u001b[39m\u001b[38;5;124mUserMCR\u001b[39m\u001b[38;5;124m\\\u001b[39m\u001b[38;5;124mDesktop\u001b[39m\u001b[38;5;124m\\\u001b[39m\u001b[38;5;124mAgustín\u001b[39m\u001b[38;5;124m\\\u001b[39m\u001b[38;5;124mcenso2022\u001b[39m\u001b[38;5;124m\\\u001b[39m\u001b[38;5;124mProyecto\u001b[39m\u001b[38;5;124m\\\u001b[39m\u001b[38;5;124mproyecto_avanzado\u001b[39m\u001b[38;5;124m\\\u001b[39m\u001b[38;5;124munion2\u001b[39m\u001b[38;5;124m\\\u001b[39m\u001b[38;5;124munion2.shp\u001b[39m\u001b[38;5;124m\"\u001b[39m)\n",
      "\u001b[1;31mNameError\u001b[0m: name 'gpd' is not defined"
     ]
    }
   ],
   "source": [
    "# cargar los geodataframe desde su directorio\n",
    "barrios = gpd.read_file(r\"C:\\Users\\UserMCR\\Desktop\\Agustín\\censo2022\\Proyecto\\GeoPandasOptimizado\\5344\\barrios.shp\")\n",
    "radios = gpd.read_file(r\"C:\\Users\\UserMCR\\Desktop\\Agustín\\censo2022\\Proyecto\\GeoPandasOptimizado\\5344\\radios.shp\")\n",
    "union_2 = gpd.read_file(r\"C:\\Users\\UserMCR\\Desktop\\Agustín\\censo2022\\Proyecto\\proyecto_avanzado\\union2\\union2.shp\")"
   ]
  }
 ],
 "metadata": {
  "kernelspec": {
   "display_name": "GIS",
   "language": "python",
   "name": "python3"
  },
  "language_info": {
   "codemirror_mode": {
    "name": "ipython",
    "version": 3
   },
   "file_extension": ".py",
   "mimetype": "text/x-python",
   "name": "python",
   "nbconvert_exporter": "python",
   "pygments_lexer": "ipython3",
   "version": "3.12.7"
  }
 },
 "nbformat": 4,
 "nbformat_minor": 2
}
